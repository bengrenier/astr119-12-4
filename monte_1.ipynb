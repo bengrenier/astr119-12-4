{
 "cells": [
  {
   "cell_type": "code",
   "execution_count": 2,
   "metadata": {},
   "outputs": [
    {
     "data": {
      "image/png": "[encoded data removed]",
      "text/plain": [
       "<Figure size 432x288 with 1 Axes>"
      ]
     },
     "metadata": {
      "needs_background": "light"
     },
     "output_type": "display_data"
    },
    {
     "name": "stdout",
     "output_type": "stream",
     "text": [
      "0 1.75 0 2.0\n",
      "1.016155\n",
      "0 1.75 0 2.0\n"
     ]
    },
    {
     "ename": "NameError",
     "evalue": "name 'pd' is not defined",
     "output_type": "error",
     "traceback": [
      "\u001b[0;31m---------------------------------------------------------------------------\u001b[0m",
      "\u001b[0;31mNameError\u001b[0m                                 Traceback (most recent call last)",
      "\u001b[0;32m<ipython-input-2-f4432a1fabf4>\u001b[0m in \u001b[0;36m<module>\u001b[0;34m()\u001b[0m\n\u001b[1;32m     35\u001b[0m \u001b[0;34m\u001b[0m\u001b[0m\n\u001b[1;32m     36\u001b[0m \u001b[0m_\u001b[0m\u001b[0;34m,\u001b[0m\u001b[0mx\u001b[0m\u001b[0;34m,\u001b[0m\u001b[0my\u001b[0m\u001b[0;34m,\u001b[0m\u001b[0mc\u001b[0m\u001b[0;34m=\u001b[0m\u001b[0mintegrate\u001b[0m\u001b[0;34m(\u001b[0m\u001b[0mxmin\u001b[0m\u001b[0;34m,\u001b[0m\u001b[0mxmax\u001b[0m\u001b[0;34m,\u001b[0m\u001b[0mn\u001b[0m\u001b[0;34m=\u001b[0m\u001b[0;36m1000\u001b[0m\u001b[0;34m)\u001b[0m\u001b[0;34m\u001b[0m\u001b[0m\n\u001b[0;32m---> 37\u001b[0;31m \u001b[0mdf\u001b[0m\u001b[0;34m=\u001b[0m\u001b[0mpd\u001b[0m\u001b[0;34m.\u001b[0m\u001b[0mDataFrame\u001b[0m\u001b[0;34m(\u001b[0m\u001b[0;34m)\u001b[0m\u001b[0;34m\u001b[0m\u001b[0m\n\u001b[0m\u001b[1;32m     38\u001b[0m \u001b[0mdf\u001b[0m\u001b[0;34m[\u001b[0m\u001b[0;34m'x'\u001b[0m\u001b[0;34m]\u001b[0m\u001b[0;34m=\u001b[0m\u001b[0mx\u001b[0m\u001b[0;34m\u001b[0m\u001b[0m\n\u001b[1;32m     39\u001b[0m \u001b[0mdf\u001b[0m\u001b[0;34m[\u001b[0m\u001b[0;34m'y'\u001b[0m\u001b[0;34m]\u001b[0m\u001b[0;34m=\u001b[0m\u001b[0my\u001b[0m\u001b[0;34m\u001b[0m\u001b[0m\n",
      "\u001b[0;31mNameError\u001b[0m: name 'pd' is not defined"
     ]
    }
   ],
   "source": [
    "%matplotlib inline\n",
    "import numpy as np\n",
    "import matplotlib.pyplot as plt\n",
    "\n",
    "def hard_function(x):\n",
    "    return(np.cos(x))\n",
    "\n",
    "X=np.linspace(0,1.75,1000)\n",
    "plt.plot(X,hard_function(X))\n",
    "plt.show()\n",
    "\n",
    "def integrate(xmin,xmax,func=hard_function,n=100000):\n",
    "    X=np.linspace(xmin,xmax,1000)\n",
    "    ymin=0\n",
    "    ymax=max((func(X)))+1\n",
    "    print(xmin,xmax,ymin,ymax)\n",
    "    area=(xmax-xmin)*(ymax-ymin)\n",
    "    check=[]\n",
    "    xs=[]\n",
    "    ys=[]\n",
    "    for i in range(n):\n",
    "        x=np.random.uniform(xmin,xmax,1)\n",
    "        xs.append(x)\n",
    "        y=np.random.uniform(ymin,ymax,1)\n",
    "        ys.append(y)\n",
    "        if abs(y)>abs(func(x)) or y<0:\n",
    "            check.append(0)\n",
    "        else:\n",
    "            check.append(1)\n",
    "    return(np.mean(check)*area,xs,ys,check)\n",
    "\n",
    "xmin = 0\n",
    "xmax = 1.75\n",
    "print(integrate(xmin,xmax)[0])\n",
    "\n",
    "_,x,y,c=integrate(xmin,xmax,n=1000)\n",
    "df=pd.DataFrame()\n",
    "df['x']=x\n",
    "df['y']=y\n",
    "df['c']=c\n",
    "X=np.linspace(xmin,xmax,1000)\n",
    "plt.plot(X,hard_function(X))\n",
    "plt.scatter(df[df['c']==0]['x'],df[df['c']==0]['y'],color='red')\n",
    "plt.scatter(df[df['c']==1]['x'],df[df['c']==1]['y'],color='blue')\n",
    "plt.show()"
   ]
  },
  {
   "cell_type": "code",
   "execution_count": null,
   "metadata": {},
   "outputs": [],
   "source": []
  }
 ],
 "metadata": {
  "kernelspec": {
   "display_name": "Python 3",
   "language": "python",
   "name": "python3"
  },
  "language_info": {
   "codemirror_mode": {
    "name": "ipython",
    "version": 3
   },
   "file_extension": ".py",
   "mimetype": "text/x-python",
   "name": "python",
   "nbconvert_exporter": "python",
   "pygments_lexer": "ipython3",
   "version": "3.6.5"
  }
 },
 "nbformat": 4,
 "nbformat_minor": 2
}
